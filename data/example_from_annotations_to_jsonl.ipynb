{
 "cells": [
  {
   "cell_type": "markdown",
   "metadata": {},
   "source": [
    "#### QA DATASET CREATION\n",
    "\n",
    "* Requirements: \n",
    "    * the dataset must have been annotated beforehand. We used Deepset.ai’s software tool for the annotation which we exported as json file\n",
    "    * an initial version of the QA, already hosted on HF, for merging: \n",
    "* So, this notebook is to finalize the processing a la SQuAD style and spliting into train-dev-test"
   ]
  },
  {
   "cell_type": "code",
   "execution_count": null,
   "metadata": {},
   "outputs": [],
   "source": [
    "from huggingface_hub import notebook_login\n",
    "\n",
    "notebook_login()"
   ]
  },
  {
   "cell_type": "code",
   "execution_count": null,
   "metadata": {},
   "outputs": [],
   "source": [
    "import json\n",
    "import pandas as pd\n",
    "import json"
   ]
  },
  {
   "cell_type": "code",
   "execution_count": null,
   "metadata": {},
   "outputs": [],
   "source": [
    "import string\n",
    "\n",
    "def replace_weird_characters(sentence, replacement_char_default=\"'\"):\n",
    "    # Define a set of printable characters\n",
    "    printable_characters = set(string.printable)\n",
    "\n",
    "    # Initialize variables to store the cleaned sentence and list of weird characters\n",
    "    cleaned_sentence = \"\"\n",
    "    weird_characters = []\n",
    "\n",
    "    # Create a mapping to replace weird characters with the specified replacement character\n",
    "    for char in sentence:\n",
    "        if char not in printable_characters:\n",
    "            if char == \"—\":\n",
    "                replacement_char = \"-\"\n",
    "            else:\n",
    "                replacement_char = replacement_char_default\n",
    "            cleaned_sentence += replacement_char\n",
    "            weird_characters.append(char)\n",
    "        else:\n",
    "            cleaned_sentence += char\n",
    "    cleaned_sentence = cleaned_sentence.replace(\"\\n\", \" \")\n",
    "    return cleaned_sentence, weird_characters"
   ]
  },
  {
   "cell_type": "code",
   "execution_count": 5,
   "metadata": {},
   "outputs": [],
   "source": [
    "annotations_file = \"./for_qa_data_annotated/annotations_part_B_Nov03_Dec23_2023.json\""
   ]
  },
  {
   "cell_type": "code",
   "execution_count": 6,
   "metadata": {},
   "outputs": [],
   "source": [
    "fname = annotations_file\n",
    "\n",
    "with open(fname, 'r', encoding='utf-8') as json_file:\n",
    "    squad_data = json.load(json_file)\n",
    "\n",
    "# Initialize empty lists to store the data\n",
    "titles = []\n",
    "contexts = []\n",
    "questions = []\n",
    "answers = []\n",
    "answer_starts = []\n",
    "is_impossible_values = []\n",
    "answer_id_list = []\n",
    "document_id_list = []\n",
    "question_id_list = []\n",
    "\n",
    "\n",
    "# Extract title, context, question, answer, answer_start, and is_impossible data from the JSON\n",
    "for article in squad_data['data']:\n",
    "    # title = article['title']\n",
    "    title = \"US_Irrigation\"\n",
    "    for paragraph in article['paragraphs']:\n",
    "        context = paragraph['context']\n",
    "        for qa in paragraph['qas']:\n",
    "            question = qa['question']\n",
    "            if 'is_impossible' in qa:\n",
    "                is_impossible = qa['is_impossible']\n",
    "            else:\n",
    "                is_impossible = False  # Set to False if not provided\n",
    "            if not is_impossible and qa['answers']:\n",
    "                answer = qa['answers'][0]['text']\n",
    "                answer_start = qa['answers'][0]['answer_start']\n",
    "\n",
    "                answer_id = qa['answers'][0]['answer_id']\n",
    "                document_id = qa['answers'][0]['document_id']\n",
    "                question_id = qa['answers'][0]['question_id']\n",
    "\n",
    "            else:\n",
    "                answer = None  # Set to None if no answer available for possible questions\n",
    "                answer_start = None\n",
    "            \n",
    "            answer_id_list.append(answer_id) \n",
    "            document_id_list.append(document_id) \n",
    "            question_id_list.append(question_id) \n",
    "\n",
    "            titles.append(title)\n",
    "            contexts.append(context)\n",
    "            questions.append(question)\n",
    "            answers.append(answer)\n",
    "            answer_starts.append(answer_start)\n",
    "            is_impossible_values.append(is_impossible)\n",
    "\n",
    "df_aequad_latest = pd.DataFrame({\n",
    "                                'document_id': document_id_list, \n",
    "                                'title': titles, \n",
    "                                'context': contexts, \n",
    "                                'question_id': question_id_list, \n",
    "                                'question': questions, \n",
    "                                'answer_id': answer_id_list, \n",
    "                                'answers.text': answers, \n",
    "                                'answers.answer_start': answer_starts, \n",
    "                                'is_impossible': is_impossible_values})\n",
    "\n",
    "fout = fname.replace(\"json\", \"csv\")\n",
    "df_aequad_latest.to_csv(fout, index=False)"
   ]
  },
  {
   "cell_type": "code",
   "execution_count": 7,
   "metadata": {},
   "outputs": [],
   "source": [
    "df_aequad_latest.loc[:, 'id'] = df_aequad_latest[\"question_id\"].astype(str)"
   ]
  },
  {
   "cell_type": "code",
   "execution_count": 8,
   "metadata": {},
   "outputs": [
    {
     "data": {
      "text/html": [
       "<div>\n",
       "<style scoped>\n",
       "    .dataframe tbody tr th:only-of-type {\n",
       "        vertical-align: middle;\n",
       "    }\n",
       "\n",
       "    .dataframe tbody tr th {\n",
       "        vertical-align: top;\n",
       "    }\n",
       "\n",
       "    .dataframe thead th {\n",
       "        text-align: right;\n",
       "    }\n",
       "</style>\n",
       "<table border=\"1\" class=\"dataframe\">\n",
       "  <thead>\n",
       "    <tr style=\"text-align: right;\">\n",
       "      <th></th>\n",
       "      <th>title</th>\n",
       "      <th>answers.answer_start</th>\n",
       "      <th>question</th>\n",
       "      <th>answers.text</th>\n",
       "      <th>id</th>\n",
       "      <th>context</th>\n",
       "      <th>is_impossible</th>\n",
       "    </tr>\n",
       "  </thead>\n",
       "  <tbody>\n",
       "    <tr>\n",
       "      <th>0</th>\n",
       "      <td>US_Irrigation</td>\n",
       "      <td>37</td>\n",
       "      <td>what is the key to early water management whil...</td>\n",
       "      <td>to apply irrigation only when it is needed to ...</td>\n",
       "      <td>1</td>\n",
       "      <td>The key to early water management is to apply ...</td>\n",
       "      <td>False</td>\n",
       "    </tr>\n",
       "    <tr>\n",
       "      <th>1</th>\n",
       "      <td>US_Irrigation</td>\n",
       "      <td>182</td>\n",
       "      <td>what can help guide early season irrigation de...</td>\n",
       "      <td>Precision water and nitrogen management</td>\n",
       "      <td>2</td>\n",
       "      <td>The key to early water management is to apply ...</td>\n",
       "      <td>False</td>\n",
       "    </tr>\n",
       "    <tr>\n",
       "      <th>2</th>\n",
       "      <td>US_Irrigation</td>\n",
       "      <td>32</td>\n",
       "      <td>what can leave room for the soil to any rainfa...</td>\n",
       "      <td>Monitoring soil moisture and leaving it modera...</td>\n",
       "      <td>3</td>\n",
       "      <td>Leave Room for Storing Rainfall\\nMonitoring so...</td>\n",
       "      <td>False</td>\n",
       "    </tr>\n",
       "    <tr>\n",
       "      <th>3</th>\n",
       "      <td>US_Irrigation</td>\n",
       "      <td>230</td>\n",
       "      <td>if the soil is too wet what will you lose rain...</td>\n",
       "      <td>runoff or deep percolation</td>\n",
       "      <td>4</td>\n",
       "      <td>Leave Room for Storing Rainfall\\nMonitoring so...</td>\n",
       "      <td>False</td>\n",
       "    </tr>\n",
       "    <tr>\n",
       "      <th>4</th>\n",
       "      <td>US_Irrigation</td>\n",
       "      <td>272</td>\n",
       "      <td>what saves irrigation, input costs and prevent...</td>\n",
       "      <td>rainfall you store</td>\n",
       "      <td>5</td>\n",
       "      <td>Leave Room for Storing Rainfall\\nMonitoring so...</td>\n",
       "      <td>False</td>\n",
       "    </tr>\n",
       "  </tbody>\n",
       "</table>\n",
       "</div>"
      ],
      "text/plain": [
       "           title  answers.answer_start  \\\n",
       "0  US_Irrigation                    37   \n",
       "1  US_Irrigation                   182   \n",
       "2  US_Irrigation                    32   \n",
       "3  US_Irrigation                   230   \n",
       "4  US_Irrigation                   272   \n",
       "\n",
       "                                            question  \\\n",
       "0  what is the key to early water management whil...   \n",
       "1  what can help guide early season irrigation de...   \n",
       "2  what can leave room for the soil to any rainfa...   \n",
       "3  if the soil is too wet what will you lose rain...   \n",
       "4  what saves irrigation, input costs and prevent...   \n",
       "\n",
       "                                        answers.text id  \\\n",
       "0  to apply irrigation only when it is needed to ...  1   \n",
       "1           Precision water and nitrogen management   2   \n",
       "2  Monitoring soil moisture and leaving it modera...  3   \n",
       "3                         runoff or deep percolation  4   \n",
       "4                                rainfall you store   5   \n",
       "\n",
       "                                             context  is_impossible  \n",
       "0  The key to early water management is to apply ...          False  \n",
       "1  The key to early water management is to apply ...          False  \n",
       "2  Leave Room for Storing Rainfall\\nMonitoring so...          False  \n",
       "3  Leave Room for Storing Rainfall\\nMonitoring so...          False  \n",
       "4  Leave Room for Storing Rainfall\\nMonitoring so...          False  "
      ]
     },
     "metadata": {},
     "output_type": "display_data"
    }
   ],
   "source": [
    "new_cols_for_final_ds = ['title',\n",
    " 'answers.answer_start',\n",
    " 'question',\n",
    " 'answers.text',\n",
    " 'id',\n",
    " 'context',\n",
    " 'is_impossible']\n",
    "\n",
    "df_all_annotations_recent = df_aequad_latest[new_cols_for_final_ds]\n",
    "display(df_all_annotations_recent.head())"
   ]
  },
  {
   "cell_type": "code",
   "execution_count": 9,
   "metadata": {},
   "outputs": [
    {
     "data": {
      "text/html": [
       "<div>\n",
       "<style scoped>\n",
       "    .dataframe tbody tr th:only-of-type {\n",
       "        vertical-align: middle;\n",
       "    }\n",
       "\n",
       "    .dataframe tbody tr th {\n",
       "        vertical-align: top;\n",
       "    }\n",
       "\n",
       "    .dataframe thead th {\n",
       "        text-align: right;\n",
       "    }\n",
       "</style>\n",
       "<table border=\"1\" class=\"dataframe\">\n",
       "  <thead>\n",
       "    <tr style=\"text-align: right;\">\n",
       "      <th></th>\n",
       "      <th>id</th>\n",
       "      <th>title</th>\n",
       "      <th>context</th>\n",
       "      <th>question</th>\n",
       "      <th>answers.text</th>\n",
       "      <th>answers.answer_start</th>\n",
       "    </tr>\n",
       "  </thead>\n",
       "  <tbody>\n",
       "    <tr>\n",
       "      <th>0</th>\n",
       "      <td>1</td>\n",
       "      <td>US_Irrigation</td>\n",
       "      <td>The key to early water management is to apply ...</td>\n",
       "      <td>what is the key to early water management whil...</td>\n",
       "      <td>to apply irrigation only when it is needed to ...</td>\n",
       "      <td>37</td>\n",
       "    </tr>\n",
       "    <tr>\n",
       "      <th>1</th>\n",
       "      <td>2</td>\n",
       "      <td>US_Irrigation</td>\n",
       "      <td>The key to early water management is to apply ...</td>\n",
       "      <td>what can help guide early season irrigation de...</td>\n",
       "      <td>Precision water and nitrogen management</td>\n",
       "      <td>182</td>\n",
       "    </tr>\n",
       "    <tr>\n",
       "      <th>2</th>\n",
       "      <td>3</td>\n",
       "      <td>US_Irrigation</td>\n",
       "      <td>Leave Room for Storing Rainfall Monitoring soi...</td>\n",
       "      <td>what can leave room for the soil to any rainfa...</td>\n",
       "      <td>Monitoring soil moisture and leaving it modera...</td>\n",
       "      <td>32</td>\n",
       "    </tr>\n",
       "    <tr>\n",
       "      <th>3</th>\n",
       "      <td>4</td>\n",
       "      <td>US_Irrigation</td>\n",
       "      <td>Leave Room for Storing Rainfall Monitoring soi...</td>\n",
       "      <td>if the soil is too wet what will you lose rain...</td>\n",
       "      <td>runoff or deep percolation</td>\n",
       "      <td>230</td>\n",
       "    </tr>\n",
       "    <tr>\n",
       "      <th>4</th>\n",
       "      <td>5</td>\n",
       "      <td>US_Irrigation</td>\n",
       "      <td>Leave Room for Storing Rainfall Monitoring soi...</td>\n",
       "      <td>what saves irrigation, input costs and prevent...</td>\n",
       "      <td>rainfall you store</td>\n",
       "      <td>272</td>\n",
       "    </tr>\n",
       "  </tbody>\n",
       "</table>\n",
       "</div>"
      ],
      "text/plain": [
       "  id          title                                            context  \\\n",
       "0  1  US_Irrigation  The key to early water management is to apply ...   \n",
       "1  2  US_Irrigation  The key to early water management is to apply ...   \n",
       "2  3  US_Irrigation  Leave Room for Storing Rainfall Monitoring soi...   \n",
       "3  4  US_Irrigation  Leave Room for Storing Rainfall Monitoring soi...   \n",
       "4  5  US_Irrigation  Leave Room for Storing Rainfall Monitoring soi...   \n",
       "\n",
       "                                            question  \\\n",
       "0  what is the key to early water management whil...   \n",
       "1  what can help guide early season irrigation de...   \n",
       "2  what can leave room for the soil to any rainfa...   \n",
       "3  if the soil is too wet what will you lose rain...   \n",
       "4  what saves irrigation, input costs and prevent...   \n",
       "\n",
       "                                        answers.text  answers.answer_start  \n",
       "0  to apply irrigation only when it is needed to ...                    37  \n",
       "1           Precision water and nitrogen management                    182  \n",
       "2  Monitoring soil moisture and leaving it modera...                    32  \n",
       "3                         runoff or deep percolation                   230  \n",
       "4                                rainfall you store                    272  "
      ]
     },
     "metadata": {},
     "output_type": "display_data"
    }
   ],
   "source": [
    "df_all_annotations_recent_final = pd.DataFrame()\n",
    "df_all_annotations_recent_final[\"id\"] = df_all_annotations_recent[\"id\"]\n",
    "df_all_annotations_recent_final[\"title\"] = df_all_annotations_recent[\"title\"]\n",
    "df_all_annotations_recent_final[\"context\"], _ =  zip(*df_all_annotations_recent['context'].apply(lambda x: replace_weird_characters(x)))\n",
    "df_all_annotations_recent_final[\"question\"], _ =  zip(*df_all_annotations_recent['question'].apply(lambda x: replace_weird_characters(x)))\n",
    "df_all_annotations_recent_final[\"answers.text\"], _ =  zip(*df_all_annotations_recent['answers.text'].apply(lambda x: replace_weird_characters(x)))\n",
    "\n",
    "df_all_annotations_recent_final['answers.answer_start'] = df_all_annotations_recent_final.apply(lambda row: row['context'].find(row['answers.text']), axis=1)\n",
    "\n",
    "display(df_all_annotations_recent_final.head())"
   ]
  },
  {
   "cell_type": "markdown",
   "metadata": {},
   "source": [
    "find cases where questions are duplicated. In such cases, we have several possible answers that we should group together.\n",
    "We will use this for non-training datasets (validation and/or testing datasets)"
   ]
  },
  {
   "cell_type": "code",
   "execution_count": 11,
   "metadata": {},
   "outputs": [],
   "source": [
    "df_mostly_training_ds = df_all_annotations_recent_final.copy()\n",
    "\n",
    "# Find duplicate rows based on the \"question\" column - df1\n",
    "duplicate_mask = df_mostly_training_ds.duplicated(subset='question', keep=False)\n",
    "\n",
    "# Create a new df containing duplicate rows - df2\n",
    "df_notfor_training_ds = df_mostly_training_ds[duplicate_mask].copy()\n",
    "\n",
    "# Remove duplicate rows from df1\n",
    "df_mostly_training_ds.drop(df_mostly_training_ds[duplicate_mask].index, inplace=True)\n",
    "\n",
    "# Reset the index of df1\n",
    "df_mostly_training_ds.reset_index(drop=True, inplace=True)\n",
    "\n",
    "# Reset the index of df2\n",
    "df_notfor_training_ds.reset_index(drop=True, inplace=True)\n"
   ]
  },
  {
   "cell_type": "markdown",
   "metadata": {},
   "source": [
    "because `df_notfor_training_ds` still contains duplicated questions, aggregate them such as:\n",
    "- each question is mapped to a list of its corresponding `answers.text` and `answers.answer_start`"
   ]
  },
  {
   "cell_type": "code",
   "execution_count": 14,
   "metadata": {},
   "outputs": [],
   "source": [
    "# Group by 'question' and aggregate 'id', 'title', 'context', 'answers.text', and 'answers.answer_start'\n",
    "agg_functions = {\n",
    "    'id': 'first',\n",
    "    'title': 'first',\n",
    "    'context': 'first',\n",
    "    'answers.text': list,\n",
    "    'answers.answer_start': list\n",
    "}\n",
    "\n",
    "column_order = ['id', 'title', 'question', 'context', 'answers.text', 'answers.answer_start']\n"
   ]
  },
  {
   "cell_type": "code",
   "execution_count": 17,
   "metadata": {},
   "outputs": [
    {
     "data": {
      "text/html": [
       "<div>\n",
       "<style scoped>\n",
       "    .dataframe tbody tr th:only-of-type {\n",
       "        vertical-align: middle;\n",
       "    }\n",
       "\n",
       "    .dataframe tbody tr th {\n",
       "        vertical-align: top;\n",
       "    }\n",
       "\n",
       "    .dataframe thead th {\n",
       "        text-align: right;\n",
       "    }\n",
       "</style>\n",
       "<table border=\"1\" class=\"dataframe\">\n",
       "  <thead>\n",
       "    <tr style=\"text-align: right;\">\n",
       "      <th></th>\n",
       "      <th>id</th>\n",
       "      <th>title</th>\n",
       "      <th>question</th>\n",
       "      <th>context</th>\n",
       "      <th>answers.text</th>\n",
       "      <th>answers.answer_start</th>\n",
       "    </tr>\n",
       "  </thead>\n",
       "  <tbody>\n",
       "    <tr>\n",
       "      <th>0</th>\n",
       "      <td>34</td>\n",
       "      <td>US_Irrigation</td>\n",
       "      <td>what is one contributing factor that leads to ...</td>\n",
       "      <td>May and June are particularly vulnerable times...</td>\n",
       "      <td>[the fields are left fairly wet from last seas...</td>\n",
       "      <td>[127, 189, 284, 338]</td>\n",
       "    </tr>\n",
       "    <tr>\n",
       "      <th>1</th>\n",
       "      <td>272</td>\n",
       "      <td>US_Irrigation</td>\n",
       "      <td>what is one method that can be used in determi...</td>\n",
       "      <td>Different methods can be used to determine how...</td>\n",
       "      <td>['speed chart' (water application depth per pa...</td>\n",
       "      <td>[200, 384]</td>\n",
       "    </tr>\n",
       "    <tr>\n",
       "      <th>2</th>\n",
       "      <td>376</td>\n",
       "      <td>US_Irrigation</td>\n",
       "      <td>what is the minimum balance in top 4 feet at 4...</td>\n",
       "      <td>Table II. Total available water in top 4 feet ...</td>\n",
       "      <td>[3.2 in/ft, 2.5 in/ft]</td>\n",
       "      <td>[443, 609]</td>\n",
       "    </tr>\n",
       "  </tbody>\n",
       "</table>\n",
       "</div>"
      ],
      "text/plain": [
       "    id          title                                           question  \\\n",
       "0   34  US_Irrigation  what is one contributing factor that leads to ...   \n",
       "1  272  US_Irrigation  what is one method that can be used in determi...   \n",
       "2  376  US_Irrigation  what is the minimum balance in top 4 feet at 4...   \n",
       "\n",
       "                                             context  \\\n",
       "0  May and June are particularly vulnerable times...   \n",
       "1  Different methods can be used to determine how...   \n",
       "2  Table II. Total available water in top 4 feet ...   \n",
       "\n",
       "                                        answers.text  answers.answer_start  \n",
       "0  [the fields are left fairly wet from last seas...  [127, 189, 284, 338]  \n",
       "1  ['speed chart' (water application depth per pa...            [200, 384]  \n",
       "2                             [3.2 in/ft, 2.5 in/ft]            [443, 609]  "
      ]
     },
     "execution_count": 17,
     "metadata": {},
     "output_type": "execute_result"
    }
   ],
   "source": [
    "\n",
    "df_notfor_training_ds_final = df_notfor_training_ds.groupby('question').agg(agg_functions).reset_index()\n",
    "df_notfor_training_ds_final = df_notfor_training_ds_final[column_order]\n",
    "df_notfor_training_ds_final"
   ]
  },
  {
   "cell_type": "markdown",
   "metadata": {},
   "source": [
    "an example of questions with several answers"
   ]
  },
  {
   "cell_type": "code",
   "execution_count": 18,
   "metadata": {},
   "outputs": [
    {
     "name": "stdout",
     "output_type": "stream",
     "text": [
      "what is the minimum balance in top 4 feet at 40% of available water for loam, very fine sandy loam, or silt loam topsoil which is silty clay loam or silty clay subsoil? 3.2 in/ft\n",
      "what is the minimum balance in top 4 feet at 40% of available water for loam, very fine sandy loam, or silt loam topsoil which is silty clay loam or silty clay subsoil? 2.5 in/ft\n"
     ]
    }
   ],
   "source": [
    "sample = df_notfor_training_ds_final.iloc[2, :]\n",
    "c = sample[\"context\"]\n",
    "q = sample[\"question\"]\n",
    "for e in sample[\"answers.text\"]: \n",
    "    print(q, e)\n",
    "    # print()\n",
    "            "
   ]
  },
  {
   "cell_type": "code",
   "execution_count": 19,
   "metadata": {},
   "outputs": [
    {
     "data": {
      "text/html": [
       "<div>\n",
       "<style scoped>\n",
       "    .dataframe tbody tr th:only-of-type {\n",
       "        vertical-align: middle;\n",
       "    }\n",
       "\n",
       "    .dataframe tbody tr th {\n",
       "        vertical-align: top;\n",
       "    }\n",
       "\n",
       "    .dataframe thead th {\n",
       "        text-align: right;\n",
       "    }\n",
       "</style>\n",
       "<table border=\"1\" class=\"dataframe\">\n",
       "  <thead>\n",
       "    <tr style=\"text-align: right;\">\n",
       "      <th></th>\n",
       "      <th>id</th>\n",
       "      <th>title</th>\n",
       "      <th>question</th>\n",
       "      <th>context</th>\n",
       "      <th>answers.text</th>\n",
       "      <th>answers.answer_start</th>\n",
       "    </tr>\n",
       "  </thead>\n",
       "  <tbody>\n",
       "    <tr>\n",
       "      <th>0</th>\n",
       "      <td>375</td>\n",
       "      <td>US_Irrigation</td>\n",
       "      <td>what is the available water in 4ft of soil at...</td>\n",
       "      <td>Table II. Total available water in top 4 feet ...</td>\n",
       "      <td>[8.0 in/4 ft]</td>\n",
       "      <td>[367]</td>\n",
       "    </tr>\n",
       "    <tr>\n",
       "      <th>1</th>\n",
       "      <td>193</td>\n",
       "      <td>US_Irrigation</td>\n",
       "      <td>Does the amount of irrigation applied in years...</td>\n",
       "      <td>The amount of irrigation applied last year or ...</td>\n",
       "      <td>[very little to do with the amount needed this...</td>\n",
       "      <td>[71]</td>\n",
       "    </tr>\n",
       "  </tbody>\n",
       "</table>\n",
       "</div>"
      ],
      "text/plain": [
       "    id          title                                           question  \\\n",
       "0  375  US_Irrigation   what is the available water in 4ft of soil at...   \n",
       "1  193  US_Irrigation  Does the amount of irrigation applied in years...   \n",
       "\n",
       "                                             context  \\\n",
       "0  Table II. Total available water in top 4 feet ...   \n",
       "1  The amount of irrigation applied last year or ...   \n",
       "\n",
       "                                        answers.text answers.answer_start  \n",
       "0                                      [8.0 in/4 ft]                [367]  \n",
       "1  [very little to do with the amount needed this...                 [71]  "
      ]
     },
     "execution_count": 19,
     "metadata": {},
     "output_type": "execute_result"
    }
   ],
   "source": [
    "\n",
    "df_mostly_training_ds_final = df_mostly_training_ds.groupby('question').agg(agg_functions).reset_index()\n",
    "df_mostly_training_ds_final = df_mostly_training_ds_final[column_order]\n",
    "df_mostly_training_ds_final.head(2)"
   ]
  },
  {
   "cell_type": "markdown",
   "metadata": {},
   "source": [
    "##### Finally do the splitting\n",
    "* do a 70%-30% split on df_mostly_training_ds_final\n",
    "    * use the 70% for additional training\n",
    "    * let the 30% called \"additional_ds\"\n",
    "\n",
    "* keep 100% of df_notfor_training_ds_final\n",
    "    * Testing set:    100% + 56% of additional_ds"
   ]
  },
  {
   "cell_type": "code",
   "execution_count": 24,
   "metadata": {},
   "outputs": [],
   "source": [
    "from sklearn.model_selection import train_test_split"
   ]
  },
  {
   "cell_type": "code",
   "execution_count": 119,
   "metadata": {},
   "outputs": [
    {
     "name": "stdout",
     "output_type": "stream",
     "text": [
      "Size of train set:      427\n",
      "Size of dev set:      60\n",
      "Size of test set:     78\n"
     ]
    }
   ],
   "source": [
    "xtra_train_df_, additional_ds = train_test_split(df_mostly_training_ds_final, test_size=0.24, random_state=42) \n",
    "xtra_dev_df_, xtra_test_df_ = train_test_split(additional_ds, test_size=0.55, random_state=42) \n",
    "\n",
    "\n",
    "\n",
    "new_train_df = xtra_train_df_.sample(frac=1, random_state=42).reset_index(drop=True)\n",
    "new_dev_df   = xtra_dev_df_.sample(frac=1, random_state=42).reset_index(drop=True)\n",
    "\n",
    "\n",
    "new_test_df_ = pd.concat([df_notfor_training_ds_final, xtra_test_df_], ignore_index=True)\n",
    "new_test_df = new_test_df_.sample(frac=1, random_state=42).reset_index(drop=True)\n",
    "\n",
    "# # shuffle a litle bit\n",
    "# dev_df = dev_df_.sample(frac=1, random_state=42).reset_index(drop=True)\n",
    "# test_df = test_df_.sample(frac=1, random_state=42).reset_index(drop=True)\n",
    "\n",
    "print(f\"Size of train set:      {len(new_train_df)}\")\n",
    "print(f\"Size of dev set:      {len(new_dev_df)}\")\n",
    "print(f\"Size of test set:     {len(new_test_df)}\")"
   ]
  },
  {
   "cell_type": "code",
   "execution_count": 87,
   "metadata": {},
   "outputs": [
    {
     "name": "stderr",
     "output_type": "stream",
     "text": [
      "Found cached dataset json (/home/kpodojos/.cache/huggingface/datasets/eusojk___json/eusojk--aequad-2023-11-19-f3a26905552111be/0.0.0/e347ab1c932092252e717ff3f949105a4dd28b27e842dd53157d2f72e276c2e4)\n"
     ]
    },
    {
     "data": {
      "application/vnd.jupyter.widget-view+json": {
       "model_id": "0fd3fae74efa4bf7b9605788e8f3b577",
       "version_major": 2,
       "version_minor": 0
      },
      "text/plain": [
       "  0%|          | 0/3 [00:00<?, ?it/s]"
      ]
     },
     "metadata": {},
     "output_type": "display_data"
    },
    {
     "data": {
      "text/plain": [
       "DatasetDict({\n",
       "    train: Dataset({\n",
       "        features: ['id', 'title', 'context', 'question', 'answers'],\n",
       "        num_rows: 1076\n",
       "    })\n",
       "    validation: Dataset({\n",
       "        features: ['id', 'title', 'context', 'question', 'answers'],\n",
       "        num_rows: 293\n",
       "    })\n",
       "    test: Dataset({\n",
       "        features: ['id', 'title', 'context', 'question', 'answers'],\n",
       "        num_rows: 252\n",
       "    })\n",
       "})"
      ]
     },
     "execution_count": 87,
     "metadata": {},
     "output_type": "execute_result"
    }
   ],
   "source": [
    "from datasets import load_dataset\n",
    "\n",
    "prev_qa_dataset = load_dataset(\"eusojk/aequad-2023-11-19\")\n",
    "prev_qa_dataset"
   ]
  },
  {
   "cell_type": "code",
   "execution_count": 141,
   "metadata": {},
   "outputs": [],
   "source": [
    "dfs = {\n",
    "    'train': final_train_,\n",
    "    'validation': final_dev_,\n",
    "    'test': final_test_,\n",
    "}"
   ]
  },
  {
   "cell_type": "code",
   "execution_count": null,
   "metadata": {},
   "outputs": [],
   "source": [
    "import os\n",
    "# import json\n",
    "# from datasets import load_dataset\n",
    "\n",
    "# input_filename = TRAIN_V2_FILE\n",
    "# # input_filename = DEV_V2_FILE\n",
    "# output_filename = f\"{DATA_DIR}/squad-train-v2.0-line-sep.json\"\n",
    "# # output_filename = f\"{DATA_DIR}/squad-dev-v2.0-line-sep.json\"\n",
    "# source: https://discuss.huggingface.co/t/question-answering-bot-fine-tuning-with-custom-dataset/4412\n",
    "def fix_to_hf_squad_format(input_filename):\n",
    "\n",
    "    output_filename = input_filename.replace(\"json\", \"jsonl\")\n",
    "    with open(input_filename, encoding=\"utf-8\") as f:\n",
    "        dataset = json.load(f)\n",
    "\n",
    "    with open(output_filename, \"w\", encoding=\"utf-8\") as f:\n",
    "        for article in dataset[\"data\"]:\n",
    "            title = article[\"title\"]\n",
    "            for paragraph in article[\"paragraphs\"]:\n",
    "                context = paragraph[\"context\"]\n",
    "                answers = {}\n",
    "                for qa in paragraph[\"qas\"]:\n",
    "                    question = qa[\"question\"]\n",
    "                    idx = qa[\"id\"]\n",
    "                    answers[\"text\"] = [a[\"text\"] for a in qa[\"answers\"]]\n",
    "                    answers[\"answer_start\"] = [a[\"answer_start\"] for a in qa[\"answers\"]]\n",
    "                    f.write(\n",
    "                        json.dumps(\n",
    "                            {\n",
    "                                \"id\": idx,\n",
    "                                \"title\": title,\n",
    "                                \"context\": context,\n",
    "                                \"question\": question,\n",
    "                                \"answers\": answers,\n",
    "                            }\n",
    "                        )\n",
    "                    )\n",
    "                    f.write(\"\\n\")\n",
    "\n",
    "\n",
    "def create_paragraphs(df):\n",
    "    paragraphs = []\n",
    "    id2context = dict(zip(df[\"id\"], df[\"context\"]))\n",
    "    for review_id, review in id2context.items():\n",
    "        qas = []\n",
    "        # Filter for all question-answer pairs about a specific context\n",
    "        review_df = df.query(f\"id == '{review_id}'\")\n",
    "        id2question = dict(zip(review_df[\"id\"], review_df[\"question\"]))\n",
    "        # Build up the qas array\n",
    "        for qid, question in id2question.items():\n",
    "            # Filter for a single question ID\n",
    "            question_df = df.query(f\"id == '{qid}'\").to_dict(orient=\"list\")\n",
    "            ans_start_idxs = question_df[\"answers.answer_start\"][0]#.tolist()\n",
    "            ans_text = question_df[\"answers.text\"][0]#.tolist()\n",
    "            # Fill answerable questions\n",
    "            if len(ans_start_idxs):\n",
    "                answers = [\n",
    "                    {\"text\": text, \"answer_start\": answer_start}\n",
    "                    for text, answer_start in zip(ans_text, ans_start_idxs)]\n",
    "                is_impossible = False\n",
    "            else:\n",
    "                answers = []\n",
    "                is_impossible = True\n",
    "            # Add question-answer pairs to qas\n",
    "            qas.append({\"question\": question, \"id\": qid, \n",
    "                        \"is_impossible\": is_impossible, \"answers\": answers})\n",
    "        # Add context and question-answer pairs to paragraphs\n",
    "        paragraphs.append({\"qas\": qas, \"context\": review})\n",
    "    return paragraphs\n",
    "\n",
    "from datetime import datetime\n",
    "import json\n",
    "\n",
    "# Get the current date\n",
    "current_date = datetime.now().date()\n",
    "\n",
    "# Format the date as a string\n",
    "date_string = current_date.strftime(\"%Y-%m-%d\")\n",
    "aequad_version = 1.1\n",
    "\n",
    "DATA_DIR = r\"./for_qa_datasets_final/v_1.1\"\n",
    "\n",
    "def convert_to_squad(dfs, version=date_string):\n",
    "    list_files_returned = []\n",
    "    for split, df in dfs.items():\n",
    "        aequad_data = {}\n",
    "        # Create `paragraphs` for each product ID\n",
    "        groups = (df.groupby(\"title\").apply(create_paragraphs)\n",
    "            .to_frame(name=\"paragraphs\").reset_index())\n",
    "        aequad_data[\"data\"] = groups.to_dict(orient=\"records\")\n",
    "        # Save the result to disk\n",
    "        fout = f\"{DATA_DIR}{os.sep}aequad-{split}-{version}.json\"\n",
    "        list_files_returned.append(fout)\n",
    "        with open(fout, \"w+\", encoding=\"utf-8\") as f:\n",
    "            json.dump(aequad_data, f, default=int)\n",
    "    return list_files_returned\n",
    "            \n",
    "list_files_returned = convert_to_squad(dfs)\n",
    "list_files_returned"
   ]
  },
  {
   "cell_type": "code",
   "execution_count": 143,
   "metadata": {},
   "outputs": [
    {
     "data": {
      "text/plain": [
       "[None, None, None]"
      ]
     },
     "execution_count": 143,
     "metadata": {},
     "output_type": "execute_result"
    }
   ],
   "source": [
    "[fix_to_hf_squad_format(f) for f in list_files_returned]"
   ]
  },
  {
   "cell_type": "markdown",
   "metadata": {},
   "source": [
    "After manually uploading the *jsonl files to the HF dataset hub, test if you can download them\n",
    " * [dataset repo](https://huggingface.co/datasets/eusojk/aequad-2023-09-20)\n",
    " * [tutorial to structure your folder](https://huggingface.co/docs/datasets/repository_structure#structure-your-repository)"
   ]
  },
  {
   "cell_type": "code",
   "execution_count": null,
   "metadata": {},
   "outputs": [],
   "source": []
  },
  {
   "cell_type": "code",
   "execution_count": null,
   "metadata": {},
   "outputs": [],
   "source": []
  },
  {
   "cell_type": "code",
   "execution_count": null,
   "metadata": {},
   "outputs": [],
   "source": []
  }
 ],
 "metadata": {
  "kernelspec": {
   "display_name": "001_aequad_benchmark_env",
   "language": "python",
   "name": "python3"
  },
  "language_info": {
   "codemirror_mode": {
    "name": "ipython",
    "version": 3
   },
   "file_extension": ".py",
   "mimetype": "text/x-python",
   "name": "python",
   "nbconvert_exporter": "python",
   "pygments_lexer": "ipython3",
   "version": "3.9.16"
  }
 },
 "nbformat": 4,
 "nbformat_minor": 2
}
